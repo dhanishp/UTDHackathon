{
  "nbformat": 4,
  "nbformat_minor": 0,
  "metadata": {
    "colab": {
      "provenance": []
    },
    "kernelspec": {
      "name": "python3",
      "display_name": "Python 3"
    },
    "language_info": {
      "name": "python"
    }
  },
  "cells": [
    {
      "cell_type": "code",
      "execution_count": null,
      "metadata": {
        "id": "rb_P_DwMFvsL"
      },
      "outputs": [],
      "source": [
        "import re\n",
        "import random\n",
        "\n",
        "from nltk.chat.util import Chat, reflections\n",
        "\n",
        "class FociChatbot(Chat):\n",
        "    def __init__(self):\n",
        "        super().__init__([], reflections)\n",
        "        p = self._pairs\n",
        "\n",
        "    def add(self, input, output):\n",
        "        if isinstance(output, str):\n",
        "            o = [output]\n",
        "        else:\n",
        "            o = output\n",
        "        self._pairs.append((re.compile(input, re.IGNORECASE), o))\n",
        "\n",
        "\n",
        "def add_response(input, output):\n",
        "    f.add(input, output)\n",
        "\n",
        "def converse():\n",
        "    f.converse()\n",
        "\n",
        "def respond(input):\n",
        "    print(f.respond(input))\n",
        "\n",
        "def reset():\n",
        "    global f\n",
        "    f = FociChatbot()\n",
        "\n",
        "\n",
        "f = FociChatbot()"
      ]
    },
    {
      "cell_type": "code",
      "source": [
        "add_response('hi', 'Hi! What do you need help with?')\n",
        "add_response('bye', 'It was nice talking to you! I hope this helped.')\n",
        "add_response('(.*)loan', 'Do you qualify for a loan?')\n",
        "add_response('yes', 'Good! Buy a house then. ')\n",
        "add_response('no', \"What part of your loan qualification do you need help with? (e.g. Credit score, DTI, LTV)\")\n",
        "add_response('(.*)help', 'What do you need help with?')\n",
        "add_response('(.*)improve(.*)Credit(.*)', 'If you want to improve your credit score, see this article: https://yourhome.fanniemae.com/own/managing-credit#:~:text=Managing%20your%20debt&text=Making%20a%20large%20purchase%20on,a%20new%20loan%20or%20mortgage')\n",
        "add_response('(.*)lower(.*)DTI(.*)', \"To lower DTI, I recommend this article: https://yourhome.fanniemae.com/buy/why-understanding-debt-essential\")\n",
        "add_response('(.*)lower(.*)LTV(.*)', \"To lower LTV, I recommend this article: 'https://singlefamily.fanniemae.com/originating-underwriting/mortgage-products/97-loan-value-options'\")\n",
        "add_response('(.*)lower(.*)debt(.*)', \"Here are some tips on lowering your debt: Pay off some debt or transfer debt to a lower interest rate loan/credit card\")\n",
        "add_response('What is DTI?', \"DTI stands for 'Debt-to-Income' ratio. It is a financial metric used to assess a person's or household's financial health and ability to manage debt. The DTI ratio is typically expressed as a percentage and is calculated by dividing the total monthly debt payments by the total monthly gross income. It is often used by lenders, such as banks and mortgage companies, to evaluate a borrower's creditworthiness and determine their eligibility for loans.\")\n",
        "add_response('(.*)What is(.*)LTV(.*)', 'LTV stands for \"Loan-to-Value\" ratio. It is a financial metric used in real estate and lending. LTV is calculated by dividing the loan amount by the appraised value of the property or the purchase price, whichever is lower.')\n",
        "add_response('(.*)calculate(.*)LTV?', 'To calculate LTV, divide the loan amount by the appraised value or purchase price (whichever is lower). Then, multiply the result by 100 to express it as a percentage.')\n"
      ],
      "metadata": {
        "id": "brhT-5tkIg5Y"
      },
      "execution_count": null,
      "outputs": []
    },
    {
      "cell_type": "code",
      "source": [
        "converse()"
      ],
      "metadata": {
        "colab": {
          "base_uri": "https://localhost:8080/",
          "height": 479
        },
        "id": "JokCHlVqIi51",
        "outputId": "2f418456-3656-4497-a413-ce5cf2334c46"
      },
      "execution_count": null,
      "outputs": [
        {
          "output_type": "stream",
          "name": "stdout",
          "text": [
            ">lower dti\n",
            "To lower DTI, I recommend this article: https://yourhome.fanniemae.com/buy/why-understanding-debt-essential\n",
            ">improve credit\n",
            "If you want to improve your credit score, see this article: https://yourhome.fanniemae.com/own/managing-credit#:~:text=Managing 0your 0debt&text=Making 0a 0large 0purchase 0on,a 0new 0loan 0or 0mortgage\n",
            ">what is dti? \n",
            "DTI stands for 'Debt-to-Income' ratio. It is a financial metric used to assess a person's or household's financial health and ability to manage debt. The DTI ratio is typically expressed as a percentage and is calculated by dividing the total monthly debt payments by the total monthly gross income. It is often used by lenders, such as banks and mortgage companies, to evaluate a borrower's creditworthiness and determine their eligibility for loans.\n",
            ">what is ltv? \n",
            "LTV stands for \"Loan-to-Value\" ratio. It is a financial metric used in real estate and lending. LTV is calculated by dividing the loan amount by the appraised value of the property or the purchase price, whichever is lower.\n"
          ]
        },
        {
          "output_type": "error",
          "ename": "KeyboardInterrupt",
          "evalue": "ignored",
          "traceback": [
            "\u001b[0;31m---------------------------------------------------------------------------\u001b[0m",
            "\u001b[0;31mKeyboardInterrupt\u001b[0m                         Traceback (most recent call last)",
            "\u001b[0;32m<ipython-input-31-1439253cbca3>\u001b[0m in \u001b[0;36m<cell line: 1>\u001b[0;34m()\u001b[0m\n\u001b[0;32m----> 1\u001b[0;31m \u001b[0mconverse\u001b[0m\u001b[0;34m(\u001b[0m\u001b[0;34m)\u001b[0m\u001b[0;34m\u001b[0m\u001b[0;34m\u001b[0m\u001b[0m\n\u001b[0m",
            "\u001b[0;32m<ipython-input-29-208dc110b5f5>\u001b[0m in \u001b[0;36mconverse\u001b[0;34m()\u001b[0m\n\u001b[1;32m     21\u001b[0m \u001b[0;34m\u001b[0m\u001b[0m\n\u001b[1;32m     22\u001b[0m \u001b[0;32mdef\u001b[0m \u001b[0mconverse\u001b[0m\u001b[0;34m(\u001b[0m\u001b[0;34m)\u001b[0m\u001b[0;34m:\u001b[0m\u001b[0;34m\u001b[0m\u001b[0;34m\u001b[0m\u001b[0m\n\u001b[0;32m---> 23\u001b[0;31m     \u001b[0mf\u001b[0m\u001b[0;34m.\u001b[0m\u001b[0mconverse\u001b[0m\u001b[0;34m(\u001b[0m\u001b[0;34m)\u001b[0m\u001b[0;34m\u001b[0m\u001b[0;34m\u001b[0m\u001b[0m\n\u001b[0m\u001b[1;32m     24\u001b[0m \u001b[0;34m\u001b[0m\u001b[0m\n\u001b[1;32m     25\u001b[0m \u001b[0;32mdef\u001b[0m \u001b[0mrespond\u001b[0m\u001b[0;34m(\u001b[0m\u001b[0minput\u001b[0m\u001b[0;34m)\u001b[0m\u001b[0;34m:\u001b[0m\u001b[0;34m\u001b[0m\u001b[0;34m\u001b[0m\u001b[0m\n",
            "\u001b[0;32m/usr/local/lib/python3.10/dist-packages/nltk/chat/util.py\u001b[0m in \u001b[0;36mconverse\u001b[0;34m(self, quit)\u001b[0m\n\u001b[1;32m    116\u001b[0m             \u001b[0muser_input\u001b[0m \u001b[0;34m=\u001b[0m \u001b[0mquit\u001b[0m\u001b[0;34m\u001b[0m\u001b[0;34m\u001b[0m\u001b[0m\n\u001b[1;32m    117\u001b[0m             \u001b[0;32mtry\u001b[0m\u001b[0;34m:\u001b[0m\u001b[0;34m\u001b[0m\u001b[0;34m\u001b[0m\u001b[0m\n\u001b[0;32m--> 118\u001b[0;31m                 \u001b[0muser_input\u001b[0m \u001b[0;34m=\u001b[0m \u001b[0minput\u001b[0m\u001b[0;34m(\u001b[0m\u001b[0;34m\">\"\u001b[0m\u001b[0;34m)\u001b[0m\u001b[0;34m\u001b[0m\u001b[0;34m\u001b[0m\u001b[0m\n\u001b[0m\u001b[1;32m    119\u001b[0m             \u001b[0;32mexcept\u001b[0m \u001b[0mEOFError\u001b[0m\u001b[0;34m:\u001b[0m\u001b[0;34m\u001b[0m\u001b[0;34m\u001b[0m\u001b[0m\n\u001b[1;32m    120\u001b[0m                 \u001b[0mprint\u001b[0m\u001b[0;34m(\u001b[0m\u001b[0muser_input\u001b[0m\u001b[0;34m)\u001b[0m\u001b[0;34m\u001b[0m\u001b[0;34m\u001b[0m\u001b[0m\n",
            "\u001b[0;32m/usr/local/lib/python3.10/dist-packages/ipykernel/kernelbase.py\u001b[0m in \u001b[0;36mraw_input\u001b[0;34m(self, prompt)\u001b[0m\n\u001b[1;32m    849\u001b[0m                 \u001b[0;34m\"raw_input was called, but this frontend does not support input requests.\"\u001b[0m\u001b[0;34m\u001b[0m\u001b[0;34m\u001b[0m\u001b[0m\n\u001b[1;32m    850\u001b[0m             )\n\u001b[0;32m--> 851\u001b[0;31m         return self._input_request(str(prompt),\n\u001b[0m\u001b[1;32m    852\u001b[0m             \u001b[0mself\u001b[0m\u001b[0;34m.\u001b[0m\u001b[0m_parent_ident\u001b[0m\u001b[0;34m,\u001b[0m\u001b[0;34m\u001b[0m\u001b[0;34m\u001b[0m\u001b[0m\n\u001b[1;32m    853\u001b[0m             \u001b[0mself\u001b[0m\u001b[0;34m.\u001b[0m\u001b[0m_parent_header\u001b[0m\u001b[0;34m,\u001b[0m\u001b[0;34m\u001b[0m\u001b[0;34m\u001b[0m\u001b[0m\n",
            "\u001b[0;32m/usr/local/lib/python3.10/dist-packages/ipykernel/kernelbase.py\u001b[0m in \u001b[0;36m_input_request\u001b[0;34m(self, prompt, ident, parent, password)\u001b[0m\n\u001b[1;32m    893\u001b[0m             \u001b[0;32mexcept\u001b[0m \u001b[0mKeyboardInterrupt\u001b[0m\u001b[0;34m:\u001b[0m\u001b[0;34m\u001b[0m\u001b[0;34m\u001b[0m\u001b[0m\n\u001b[1;32m    894\u001b[0m                 \u001b[0;31m# re-raise KeyboardInterrupt, to truncate traceback\u001b[0m\u001b[0;34m\u001b[0m\u001b[0;34m\u001b[0m\u001b[0m\n\u001b[0;32m--> 895\u001b[0;31m                 \u001b[0;32mraise\u001b[0m \u001b[0mKeyboardInterrupt\u001b[0m\u001b[0;34m(\u001b[0m\u001b[0;34m\"Interrupted by user\"\u001b[0m\u001b[0;34m)\u001b[0m \u001b[0;32mfrom\u001b[0m \u001b[0;32mNone\u001b[0m\u001b[0;34m\u001b[0m\u001b[0;34m\u001b[0m\u001b[0m\n\u001b[0m\u001b[1;32m    896\u001b[0m             \u001b[0;32mexcept\u001b[0m \u001b[0mException\u001b[0m \u001b[0;32mas\u001b[0m \u001b[0me\u001b[0m\u001b[0;34m:\u001b[0m\u001b[0;34m\u001b[0m\u001b[0;34m\u001b[0m\u001b[0m\n\u001b[1;32m    897\u001b[0m                 \u001b[0mself\u001b[0m\u001b[0;34m.\u001b[0m\u001b[0mlog\u001b[0m\u001b[0;34m.\u001b[0m\u001b[0mwarning\u001b[0m\u001b[0;34m(\u001b[0m\u001b[0;34m\"Invalid Message:\"\u001b[0m\u001b[0;34m,\u001b[0m \u001b[0mexc_info\u001b[0m\u001b[0;34m=\u001b[0m\u001b[0;32mTrue\u001b[0m\u001b[0;34m)\u001b[0m\u001b[0;34m\u001b[0m\u001b[0;34m\u001b[0m\u001b[0m\n",
            "\u001b[0;31mKeyboardInterrupt\u001b[0m: Interrupted by user"
          ]
        }
      ]
    }
  ]
}